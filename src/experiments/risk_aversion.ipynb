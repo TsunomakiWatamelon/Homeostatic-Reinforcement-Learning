{
 "cells": [
  {
   "cell_type": "markdown",
   "metadata": {},
   "source": [
    "# Experience : Risk a l'aversion"
   ]
  },
  {
   "cell_type": "code",
   "execution_count": 1,
   "metadata": {},
   "outputs": [],
   "source": [
    "%load_ext autoreload\n",
    "%autoreload 2"
   ]
  },
  {
   "cell_type": "code",
   "execution_count": 2,
   "metadata": {},
   "outputs": [],
   "source": [
    "import sys\n",
    "import os\n",
    "# Ajouter le dossier src au chemin d'importation\n",
    "sys.path.append(os.path.abspath(os.path.join(os.getcwd(), \"..\")))"
   ]
  },
  {
   "cell_type": "code",
   "execution_count": 3,
   "metadata": {},
   "outputs": [],
   "source": [
    "import matplotlib.pyplot as plt\n",
    "import torch \n",
    "import numpy as np"
   ]
  },
  {
   "cell_type": "code",
   "execution_count": 4,
   "metadata": {},
   "outputs": [],
   "source": [
    "from environments.risk_aversion_env import RiskAversionEnvironment\n",
    "from models.qlearning import QLearning"
   ]
  },
  {
   "cell_type": "markdown",
   "metadata": {},
   "source": [
    "### Configuration de l'environnement"
   ]
  },
  {
   "cell_type": "code",
   "execution_count": 5,
   "metadata": {},
   "outputs": [],
   "source": [
    "# Configuration de l'environnement\n",
    "initial_energy = torch.tensor([10])  # Énergie initiale de l'agent\n",
    "weights = torch.tensor([1.0])  # Poids pour l'énergie interne\n",
    "exponents = [2, 2]  # Non-linéarité du drive\n",
    "effects = {}  # Placeholder pour les effets\n",
    "\n",
    "# Paramètres pour les rewards risqués et non risqués\n",
    "risky_reward = 8  # Énergie ajoutée pour l'état risqué\n",
    "non_risky_reward = 2  # Énergie ajoutée pour l'état non risqué\n",
    "risky_probability = 0.25  # Probabilité d'obtenir l'énergie dans l'état risqué\n",
    "\n",
    "setpoint_energy = torch.tensor([0])  # Setpoint pour l'énergie optimale\n",
    "\n",
    "# Instanciation de l'environnement\n",
    "env = RiskAversionEnvironment(\n",
    "    H=initial_energy,\n",
    "    setpoints=setpoint_energy,\n",
    "    weights=weights,\n",
    "    exponents=exponents,\n",
    "    effects=effects,\n",
    "    risky_reward=risky_reward,\n",
    "    non_risky_reward=non_risky_reward,\n",
    "    risky_prob=risky_probability,\n",
    ")"
   ]
  },
  {
   "cell_type": "markdown",
   "metadata": {},
   "source": [
    "### Configuration de l'agent"
   ]
  },
  {
   "cell_type": "code",
   "execution_count": 6,
   "metadata": {},
   "outputs": [],
   "source": [
    "# Création de la Q-table pour l'expérience aversion au risque\n",
    "\n",
    "# Instancier l'agent Q-learning\n",
    "state_size = 2\n",
    "action_size = 2  \n",
    "\n",
    "alpha = 0.25 # Taux d'apprentissage\n",
    "gamma = 0.8 # Discount factor\n",
    "temperature = 10 # Facteur d'exploration\n",
    "\n",
    "agent = QLearning(state_size=state_size, action_size=action_size, alpha=alpha, gamma=gamma, temperature=temperature)"
   ]
  },
  {
   "cell_type": "markdown",
   "metadata": {},
   "source": [
    "### Entraînement du modèle"
   ]
  },
  {
   "cell_type": "code",
   "execution_count": 7,
   "metadata": {},
   "outputs": [
    {
     "name": "stdout",
     "output_type": "stream",
     "text": [
      "Etat interne final : 50\n",
      "Épisode 1/3000 : Récompense totale = 230.0\n",
      "Etat interne final : -114\n",
      "Épisode 101/3000 : Récompense totale = 886.0\n",
      "Etat interne final : -2\n",
      "Épisode 201/3000 : Récompense totale = 98.0\n",
      "Etat interne final : 8\n",
      "Épisode 301/3000 : Récompense totale = -908.0\n",
      "Etat interne final : -80\n",
      "Épisode 401/3000 : Récompense totale = 824.0\n",
      "Etat interne final : 94\n",
      "Épisode 501/3000 : Récompense totale = -1090.0\n",
      "Etat interne final : 32\n",
      "Épisode 601/3000 : Récompense totale = -328.0\n",
      "Etat interne final : 50\n",
      "Épisode 701/3000 : Récompense totale = -982.0\n",
      "Etat interne final : 140\n",
      "Épisode 801/3000 : Récompense totale = -1124.0\n",
      "Etat interne final : 42\n",
      "Épisode 901/3000 : Récompense totale = -454.0\n",
      "Etat interne final : 36\n",
      "Épisode 1001/3000 : Récompense totale = 348.0\n",
      "Etat interne final : 126\n",
      "Épisode 1101/3000 : Récompense totale = -1078.0\n",
      "Etat interne final : -18\n",
      "Épisode 1201/3000 : Récompense totale = -670.0\n",
      "Etat interne final : 40\n",
      "Épisode 1301/3000 : Récompense totale = -964.0\n",
      "Etat interne final : -84\n",
      "Épisode 1401/3000 : Récompense totale = 916.0\n",
      "Etat interne final : -40\n",
      "Épisode 1501/3000 : Récompense totale = 868.0\n",
      "Etat interne final : 94\n",
      "Épisode 1601/3000 : Récompense totale = -1030.0\n",
      "Etat interne final : -4\n",
      "Épisode 1701/3000 : Récompense totale = 992.0\n",
      "Etat interne final : -32\n",
      "Épisode 1801/3000 : Récompense totale = 296.0\n",
      "Etat interne final : 30\n",
      "Épisode 1901/3000 : Récompense totale = -882.0\n",
      "Etat interne final : -70\n",
      "Épisode 2001/3000 : Récompense totale = 914.0\n",
      "Etat interne final : 52\n",
      "Épisode 2101/3000 : Récompense totale = -1044.0\n",
      "Etat interne final : -82\n",
      "Épisode 2201/3000 : Récompense totale = 642.0\n",
      "Etat interne final : 4\n",
      "Épisode 2301/3000 : Récompense totale = 540.0\n",
      "Etat interne final : 86\n",
      "Épisode 2401/3000 : Récompense totale = -1026.0\n",
      "Etat interne final : 112\n",
      "Épisode 2501/3000 : Récompense totale = -1096.0\n",
      "Etat interne final : -48\n",
      "Épisode 2601/3000 : Récompense totale = 952.0\n",
      "Etat interne final : -50\n",
      "Épisode 2701/3000 : Récompense totale = 662.0\n",
      "Etat interne final : -52\n",
      "Épisode 2801/3000 : Récompense totale = -388.0\n",
      "Etat interne final : -18\n",
      "Épisode 2901/3000 : Récompense totale = -114.0\n"
     ]
    }
   ],
   "source": [
    "# Configuration pour l'apprentissage\n",
    "episodes = 3000  # Nombre total d'épisodes\n",
    "reward_history = []  # Récompenses cumulées par épisode\n",
    "state_histories = []  # Historique des états par épisode\n",
    "risky_preferences = []  # Préférence pour l'état risqué par épisode\n",
    "non_risky_preferences = []  # Préférence pour l'état non risqué par épisode\n",
    "\n",
    "internal_states = []\n",
    "\n",
    "for episode in range(episodes):\n",
    "    internal_state, markov_state, current_timestep = env.reset()  # Réinitialiser l'environnement\n",
    "    internal_state = int(internal_state)\n",
    "    total_reward = 0  # Récompense totale pour l'épisode\n",
    "    done = False\n",
    "    state_history = [internal_state]\n",
    "    while not done:\n",
    "        # Choisir une action\n",
    "        action = agent.choose_action(markov_state)\n",
    "\n",
    "        # Effectuer une étape\n",
    "        internal_state, reward, done, next_markov_state, current_timestep  = env.step(action)\n",
    "\n",
    "        internal_state = int(internal_state)\n",
    "\n",
    "        # Mise à jour Q-learning\n",
    "        agent.update_q_value(markov_state, action, reward, next_markov_state)\n",
    "\n",
    "        # Mettre à jour l'état courant\n",
    "        markov_state = next_markov_state\n",
    "        total_reward += reward\n",
    "\n",
    "        # Ajouter l'état courant à l'historique\n",
    "        state_history.append(internal_state)\n",
    "    \n",
    "    state_histories.append(state_history)\n",
    "\n",
    "    # Ajouter les métriques de l'épisode aux historiques globaux\n",
    "\n",
    "    if episode % 100 == 0:\n",
    "        print(f\"Etat interne final : {internal_state}\")\n",
    "        print(f\"Épisode {episode + 1}/{episodes} : Récompense totale = {total_reward}\")\n"
   ]
  },
  {
   "cell_type": "code",
   "execution_count": 8,
   "metadata": {},
   "outputs": [
    {
     "data": {
      "text/plain": [
       "[<matplotlib.lines.Line2D at 0x16a8d5d60>]"
      ]
     },
     "execution_count": 8,
     "metadata": {},
     "output_type": "execute_result"
    },
    {
     "data": {
      "image/png": "[encoded data removed]",
      "text/plain": [
       "<Figure size 640x480 with 1 Axes>"
      ]
     },
     "metadata": {},
     "output_type": "display_data"
    }
   ],
   "source": [
    "# Plot dernier épisode\n",
    "\n",
    "plt.plot(state_histories[-1])"
   ]
  },
  {
   "cell_type": "code",
   "execution_count": 20,
   "metadata": {},
   "outputs": [],
   "source": [
    "\n",
    "state_histories = [[] for _ in range(501)]\n",
    "for trials in range(100): \n",
    "    internal_state, markov_state, current_timestep = env.reset()  # Réinitialiser l'environnement\n",
    "    total_reward = 0  # Récompense totale pour l'épisode\n",
    "    done = False\n",
    "    state_histories[current_timestep].append(int(internal_state))\n",
    "    while not done:\n",
    "        # Choisir une action\n",
    "        action = agent.choose_action(markov_state, evaluation=True)\n",
    "\n",
    "        # Effectuer une étape\n",
    "        internal_state, reward, done, next_markov_state, current_timestep  = env.step(action, show=False)\n",
    "        # Mise à jour Q-learning\n",
    "        agent.update_q_value(markov_state, action, reward, next_markov_state)\n",
    "\n",
    "        # Mettre à jour l'état courant\n",
    "        markov_state = next_markov_state\n",
    "        total_reward += reward\n",
    "\n",
    "        # Ajouter l'état courant à l'historique\n",
    "        state_histories[current_timestep].append(int(internal_state))"
   ]
  },
  {
   "cell_type": "code",
   "execution_count": 21,
   "metadata": {},
   "outputs": [
    {
     "data": {
      "text/plain": [
       "[<matplotlib.lines.Line2D at 0x174bcd4f0>]"
      ]
     },
     "execution_count": 21,
     "metadata": {},
     "output_type": "execute_result"
    },
    {
     "data": {
      "image/png": "[encoded data removed]",
      "text/plain": [
       "<Figure size 640x480 with 1 Axes>"
      ]
     },
     "metadata": {},
     "output_type": "display_data"
    }
   ],
   "source": [
    "# avg of the 100 trials\n",
    "state_history = np.mean(state_histories, axis=1)\n",
    "plt.plot(state_history)"
   ]
  },
  {
   "cell_type": "code",
   "execution_count": 22,
   "metadata": {},
   "outputs": [
    {
     "name": "stdout",
     "output_type": "stream",
     "text": [
      "[[10.         -1.69424797]\n",
      " [-1.2370312   1.15453488]]\n"
     ]
    }
   ],
   "source": [
    "print(agent.q_table)"
   ]
  }
 ],
 "metadata": {
  "kernelspec": {
   "display_name": "dac",
   "language": "python",
   "name": "python3"
  },
  "language_info": {
   "codemirror_mode": {
    "name": "ipython",
    "version": 3
   },
   "file_extension": ".py",
   "mimetype": "text/x-python",
   "name": "python",
   "nbconvert_exporter": "python",
   "pygments_lexer": "ipython3",
   "version": "3.12.2"
  }
 },
 "nbformat": 4,
 "nbformat_minor": 2
}
