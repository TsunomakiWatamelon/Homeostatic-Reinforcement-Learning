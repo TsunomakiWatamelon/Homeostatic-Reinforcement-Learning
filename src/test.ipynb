{
 "cells": [
  {
   "cell_type": "code",
   "execution_count": 1,
   "metadata": {},
   "outputs": [],
   "source": [
    "%load_ext autoreload\n",
    "%autoreload 2"
   ]
  },
  {
   "cell_type": "code",
   "execution_count": 2,
   "metadata": {},
   "outputs": [],
   "source": [
    "from environments.base_env import HomeostaticEnvironment\n",
    "from environments.anticipatory_env import AnticipatoryEnvironment\n",
    "from models.qlearning import QLearning"
   ]
  },
  {
   "cell_type": "markdown",
   "metadata": {},
   "source": [
    "# Test base_env "
   ]
  },
  {
   "cell_type": "code",
   "execution_count": 3,
   "metadata": {},
   "outputs": [
    {
     "name": "stdout",
     "output_type": "stream",
     "text": [
      "État initial : tensor([90., 37.])\n",
      "État après manger : tensor([100.,  37.])\n",
      "Récompense : tensor(0.)\n",
      "État après refroidissement : tensor([100.,  35.])\n",
      "Récompense : tensor(-2.8284)\n"
     ]
    }
   ],
   "source": [
    "import torch\n",
    "# Définir les paramètres\n",
    "initial_state = [90, 37]  # Glucose = 90, Température = 37\n",
    "setpoints = [100, 37]  # Setpoints pour le glucose et la température\n",
    "weights = [1, 2]  # Importance relative : température plus critique\n",
    "exponents = [2, 2]  # Non-linéarité pour les calculs de drive\n",
    "effects = {\n",
    "    \"eat\": [10, 0],  # Manger augmente le glucose de 10\n",
    "    \"cool_down\": [0, -2]  # Se refroidir réduit la température de 2\n",
    "}\n",
    "\n",
    "# Instancier l'environnement\n",
    "env = HomeostaticEnvironment(H=initial_state, setpoints=setpoints, weights=weights, exponents=exponents, effects=effects)\n",
    "\n",
    "# Test de l'environnement\n",
    "print(\"État initial :\", env.state)\n",
    "\n",
    "# Effectuer une action (\"eat\")\n",
    "state, reward,_,_ = env.step(\"eat\")\n",
    "print(\"État après manger :\", state)\n",
    "print(\"Récompense :\", reward)\n",
    "\n",
    "# Effectuer une autre action (\"cool_down\")\n",
    "state, reward,_,_ = env.step(\"cool_down\")\n",
    "print(\"État après refroidissement :\", state)\n",
    "print(\"Récompense :\", reward)\n"
   ]
  },
  {
   "cell_type": "markdown",
   "metadata": {},
   "source": [
    "# Test Experience Anticipation avec QLearning "
   ]
  },
  {
   "cell_type": "code",
   "execution_count": 4,
   "metadata": {},
   "outputs": [],
   "source": [
    "# Paramètres\n",
    "state_size = 3  # la température\n",
    "action_size = 2  # Actions : [0 = aucune réponse, 1 = réponse anticipatoire]\n",
    "alpha = 0.2 # Taux d'apprentissage\n",
    "gamma = 0.96 # Discount factor\n",
    "epsilon = 0.1 # Facteur d'exploration\n",
    "max_epoch = 1000  # Nombre d'épisodes\n",
    "\n",
    "# Instancier le modèle Q-learning\n",
    "agent = QLearning(state_size=state_size, action_size=action_size, alpha=alpha, gamma=gamma, epsilon=epsilon)\n"
   ]
  },
  {
   "cell_type": "code",
   "execution_count": 5,
   "metadata": {},
   "outputs": [],
   "source": [
    "# Définition des paramètres de l'environnement\n",
    "initial_state = torch.tensor([37.0])  # Température corporelle initiale\n",
    "setpoints = torch.tensor([37.0])  # Température optimale\n",
    "weights = torch.tensor([1.0])  # Importance de la température\n",
    "exponents = [2, 4]  # Non-linéarité / Parametres de drive\n",
    "effects = {\n",
    "    # Pas d'effet sur la température de maniere flat, donc gestion dans specifique l'environnment\n",
    "}\n",
    "signal_timesteps = [0]\n",
    "injection_timesteps = [2]\n",
    "markov_states = ['Signal', 'Post_Signal_Anticipated', 'Post_Signal_No_Action', 'Post_Signal_Neutral']\n",
    "max_timestep = 48 # 30 minutes = 1 timestep, ==> 24 heures = 48 timesteps\n",
    "\n",
    "# Instanciation de l'environnement\n",
    "env = AnticipatoryEnvironment(\n",
    "    H=initial_state,\n",
    "    setpoints=setpoints,\n",
    "    weights=weights,\n",
    "    exponents=exponents,\n",
    "    effects=effects,\n",
    "    signal_timesteps=signal_timesteps,\n",
    "    injection_timesteps=injection_timesteps,\n",
    "    max_timestep=max_timestep\n",
    ")\n"
   ]
  },
  {
   "cell_type": "code",
   "execution_count": 6,
   "metadata": {},
   "outputs": [],
   "source": [
    "markov_state, reward, done, _ = env.step(0)"
   ]
  },
  {
   "cell_type": "code",
   "execution_count": 7,
   "metadata": {},
   "outputs": [
    {
     "name": "stdout",
     "output_type": "stream",
     "text": [
      "Epoch 0 - Total reward : 0.0\n"
     ]
    },
    {
     "data": {
      "image/png": "[encoded data removed]",
      "text/plain": [
       "<Figure size 640x480 with 1 Axes>"
      ]
     },
     "metadata": {},
     "output_type": "display_data"
    }
   ],
   "source": [
    "# Boucle Q-learning\n",
    "\n",
    "# Override max_epoch to 1 for testing\n",
    "max_epoch = 1\n",
    "\n",
    "env.reset()\n",
    "for epoch in range(max_epoch):\n",
    "    internal_state, markov_state = env.reset()\n",
    "    done = False\n",
    "    total_reward = 0\n",
    "    internal_states = [internal_state.clone()]\n",
    "    while not done:\n",
    "        action = agent.choose_action(markov_state)\n",
    "        internal_state, reward, done, next_markov_state = env.step(action)\n",
    "        agent.update_q_value(markov_state, action, reward, next_markov_state)\n",
    "        markov_state = next_markov_state\n",
    "        total_reward += reward\n",
    "        internal_states.append(internal_state.clone())\n",
    "    print(f\"Epoch {epoch} - Total reward : {total_reward}\")\n",
    "\n",
    "# Affichage de l'évolution de la température\n",
    "import matplotlib.pyplot as plt\n",
    "\n",
    "\n",
    "plt.plot(internal_states, label=\"Temperature\")\n",
    "plt.legend()\n",
    "plt.show()\n"
   ]
  },
  {
   "cell_type": "code",
   "execution_count": null,
   "metadata": {},
   "outputs": [],
   "source": []
  }
 ],
 "metadata": {
  "kernelspec": {
   "display_name": "dac",
   "language": "python",
   "name": "python3"
  },
  "language_info": {
   "codemirror_mode": {
    "name": "ipython",
    "version": 3
   },
   "file_extension": ".py",
   "mimetype": "text/x-python",
   "name": "python",
   "nbconvert_exporter": "python",
   "pygments_lexer": "ipython3",
   "version": "3.12.7"
  }
 },
 "nbformat": 4,
 "nbformat_minor": 2
}
